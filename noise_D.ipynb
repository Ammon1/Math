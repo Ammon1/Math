{
  "nbformat": 4,
  "nbformat_minor": 0,
  "metadata": {
    "colab": {
      "name": "noise_D",
      "provenance": [],
      "collapsed_sections": [],
      "include_colab_link": true
    },
    "kernelspec": {
      "display_name": "Python 3",
      "name": "python3"
    },
    "accelerator": "GPU"
  },
  "cells": [
    {
      "cell_type": "markdown",
      "metadata": {
        "id": "view-in-github",
        "colab_type": "text"
      },
      "source": [
        "<a href=\"https://colab.research.google.com/github/Ammon1/Math/blob/master/noise_D.ipynb\" target=\"_parent\"><img src=\"https://colab.research.google.com/assets/colab-badge.svg\" alt=\"Open In Colab\"/></a>"
      ]
    },
    {
      "cell_type": "code",
      "metadata": {
        "colab": {
          "base_uri": "https://localhost:8080/"
        },
        "id": "_jubea7EytaR",
        "outputId": "c0dc9190-914e-422c-bc1c-730433fae19e"
      },
      "source": [
        "from google.colab import drive\r\n",
        "drive.mount('/content/drive/')"
      ],
      "execution_count": 17,
      "outputs": [
        {
          "output_type": "stream",
          "text": [
            "Drive already mounted at /content/drive/; to attempt to forcibly remount, call drive.mount(\"/content/drive/\", force_remount=True).\n"
          ],
          "name": "stdout"
        }
      ]
    },
    {
      "cell_type": "code",
      "metadata": {
        "id": "OdA_LJS1yzaE"
      },
      "source": [
        "import pandas as pd\r\n",
        "import numpy as np\r\n",
        "import glob\r\n",
        "import os\r\n",
        "import matplotlib.pyplot as plt\r\n",
        "from sklearn.svm import SVR\r\n",
        "from sklearn.pipeline import make_pipeline\r\n",
        "from sklearn.preprocessing import StandardScaler\r\n",
        "from sklearn.ensemble import RandomForestRegressor\r\n",
        "\r\n",
        "from tensorflow.keras.models import Sequential\r\n",
        "from tensorflow.keras.layers import Dense,Dropout,LSTM\r\n",
        "#from keras.layers import \r\n",
        "import tensorflow as tf\r\n",
        "from tensorflow.keras import backend as K\r\n",
        "from tensorflow.keras.layers import Bidirectional\r\n",
        "\r\n",
        "\r\n",
        "import xgboost as xgb"
      ],
      "execution_count": 18,
      "outputs": []
    },
    {
      "cell_type": "code",
      "metadata": {
        "id": "UizZuQA1B3a4"
      },
      "source": [
        "def import_files(sample,ac_big,ac_small,number):#H67, 100AC,1AC,3\r\n",
        "  i=0\r\n",
        "  j=0\r\n",
        "  for file in arr:\r\n",
        "      if 'dpt' in file:\r\n",
        "        #pomair dokladny\r\n",
        "        if ac_big in file and sample in file:\r\n",
        "            globals()['df_Y']=pd.read_csv(path+file,sep=',')\r\n",
        "  for file in arr:\r\n",
        "        #pomiar niedokladny\r\n",
        "        if ac_small in file and sample in file:    \r\n",
        "            print('i ',i)\r\n",
        "            globals()['df'+str(i)]=pd.read_csv(path+file,sep=',')\r\n",
        "            #intensity correction\r\n",
        "            globals()['df'+str(i)]=globals()['df'+str(i)]*np.mean(df_Y.iloc[25000:45000,1].values)/np.mean((globals()['df'+str(i)].iloc[25000:45000,1].values))\r\n",
        "            #if i==0:\r\n",
        "            #  X_0=globals()['df'+str(i)]\r\n",
        "            #else:\r\n",
        "            # X_0=np.hstack((X_0,globals()['df'+str(i)]))\r\n",
        "            i=i+1\r\n",
        "  Y_0=df_Y.iloc[:,1].values\r\n",
        "  Y_0=Y_0.reshape(-1,1)\r\n",
        "  scalerY = StandardScaler()\r\n",
        "  Y_0=scalerY.fit_transform(Y_0)\r\n",
        "  Y_0=Y_0.flatten()\r\n",
        "  \r\n",
        "  X_0=np.hstack((\r\n",
        "              df0.iloc[:,1],\r\n",
        "              df1.iloc[:,1],\r\n",
        "              df2.iloc[:,1],\r\n",
        "              df3.iloc[:,1],\r\n",
        "              df4.iloc[:,1],\r\n",
        "              ))\r\n",
        "  scalerX = StandardScaler()\r\n",
        "  X_0=X_0.reshape(-1,1)\r\n",
        "  X_0=scalerX.fit_transform(X_0)\r\n",
        "  X_0=X_0.flatten()\r\n",
        "\r\n",
        "  print(X_0.shape)\r\n",
        "  print(X_1.shape)\r\n",
        "  globals()['Y'+number]=np.tile(Y_0,int(X_0.shape[0]/Y_0.shape[0]))\r\n",
        "  globals()['X'+number]=np.vstack((X_0,X_1,X_2,X_3,X_4,X_5,X_8,X_9,X_10,X_11,X_12))\r\n",
        "  \r\n",
        "\r\n",
        "  \r\n",
        "\r\n",
        "  plt.figure(figsize=(20,20))\r\n",
        "  plt.plot(globals()['X'+number][0,:])\r\n",
        "  plt.plot(globals()['Y'+number])\r\n",
        "  return globals()['X'+number],globals()['Y'+number]"
      ],
      "execution_count": 19,
      "outputs": []
    },
    {
      "cell_type": "code",
      "metadata": {
        "id": "E6vKcO5YerbF"
      },
      "source": [
        "def create_dataset(X,Y, look_back):\r\n",
        "\tdataX, dataY = [], []\r\n",
        "\tfor i in range(len(Y)-look_back-1):\r\n",
        "\t\ta = X[i:(i+look_back), :]\r\n",
        "\t\tdataX.append(a)\r\n",
        "\t\tdataY.append(Y[i + look_back, 0])\r\n",
        "\treturn np.array(dataX), np.array(dataY)"
      ],
      "execution_count": 20,
      "outputs": []
    },
    {
      "cell_type": "code",
      "metadata": {
        "id": "M_BiKUFPy1Pc"
      },
      "source": [
        "path='/content/drive/MyDrive/fizyka/ftir_noise/res12/'\r\n",
        "arr = os.listdir(path)"
      ],
      "execution_count": 21,
      "outputs": []
    },
    {
      "cell_type": "code",
      "metadata": {
        "colab": {
          "base_uri": "https://localhost:8080/"
        },
        "id": "w8fqGdX4y26b",
        "outputId": "87a8b134-2770-49b5-ed26-2223b1fed0c7"
      },
      "source": [
        "i=0\r\n",
        "j=0\r\n",
        "for file in arr:\r\n",
        "    if 'dpt' in file:\r\n",
        "       #pomair dokladny\r\n",
        "       if '500AC' in file and 'MIR' in file:\r\n",
        "           print('big')\r\n",
        "           globals()['df_Y']=pd.read_csv(path+file,sep=',')\r\n",
        "       #pomiar niedokladny\r\n",
        "       elif '1AC' in file and 'MIR' in file:    \r\n",
        "           print('i ',i)\r\n",
        "           globals()['df'+str(i)]=pd.read_csv(path+file,sep=',')\r\n",
        "           i=i+1\r\n",
        "      #pomiar tla\r\n",
        "       elif '1AC' in file and 'bcg' in file:  \r\n",
        "           print('bck j ',j)\r\n",
        "           globals()['df_bg'+str(j)]=pd.read_csv(path+file,sep=',')\r\n",
        "           j=j+1"
      ],
      "execution_count": 22,
      "outputs": [
        {
          "output_type": "stream",
          "text": [
            "big\n",
            "i  0\n",
            "i  1\n",
            "i  2\n",
            "i  3\n",
            "i  4\n",
            "bck j  0\n",
            "bck j  1\n",
            "bck j  2\n",
            "bck j  3\n",
            "bck j  4\n",
            "bck j  5\n",
            "bck j  6\n",
            "bck j  7\n",
            "bck j  8\n",
            "bck j  9\n"
          ],
          "name": "stdout"
        }
      ]
    },
    {
      "cell_type": "code",
      "metadata": {
        "id": "TE-klI3Kea1C"
      },
      "source": [
        "def moving_average(a, n) :\r\n",
        "    ret = np.cumsum(a, dtype=float)\r\n",
        "    ret[n:] = ret[n:] - ret[:-n]\r\n",
        "    return ret[n - 1:] / n\r\n",
        "\r\n",
        "def moving_average_corr(a, n) :\r\n",
        "    ret=moving_average(a, n)\r\n",
        "    return np.insert(ret,0,a[:n-1])"
      ],
      "execution_count": 23,
      "outputs": []
    },
    {
      "cell_type": "code",
      "metadata": {
        "id": "U6op4BXUy5BM",
        "colab": {
          "base_uri": "https://localhost:8080/",
          "height": 231
        },
        "outputId": "a9831d91-f453-43d8-b1bb-2490d2e08c66"
      },
      "source": [
        "Y_0=df_Y.iloc[:,1].values\r\n",
        "Y_0=Y_0.reshape(-1,1)\r\n",
        "scalerY = StandardScaler()\r\n",
        "Y_0=scalerY.fit_transform(Y_0)\r\n",
        "Y_0=Y_0.flatten()\r\n",
        "\r\n",
        "X_0=np.hstack((\r\n",
        "            df1.iloc[:,1],\r\n",
        "            df2.iloc[:,1],\r\n",
        "            df3.iloc[:,1],\r\n",
        "            df4.iloc[:,1],\r\n",
        "            df0.iloc[:,1],))\r\n",
        "\r\n",
        "scalerX = StandardScaler()\r\n",
        "X_0=X_0.reshape(-1,1)\r\n",
        "X_0=scalerX.fit_transform(X_0)\r\n",
        "X_0=X_0.flatten()\r\n",
        "\r\n",
        "X_01=np.arange(0,df_Y.iloc[:,1].shape[0])\r\n",
        "X_02=np.power(X_01,2)\r\n",
        "X_03=np.power(X_01,3)\r\n",
        "\r\n",
        "X0=df_bg0.iloc[:,1].values\r\n",
        "X1=df_bg1.iloc[:,1].values\r\n",
        "X2=df_bg2.iloc[:,1].values\r\n",
        "X3=df_bg3.iloc[:,1].values\r\n",
        "X4=df_bg4.iloc[:,1].values\r\n",
        "X5=df_bg5.iloc[:,1].values\r\n",
        "X6=df_bg6.iloc[:,1].values\r\n",
        "X7=df_bg7.iloc[:,1].values\r\n",
        "X8=df_bg8.iloc[:,1].values\r\n",
        "X9=df_bg9.iloc[:,1].values\r\n",
        "\r\n",
        "\r\n",
        "X_1=np.tile(X1,int(X_0.shape[0]/Y_0.shape[0]))\r\n",
        "X_2=np.tile(X2,int(X_0.shape[0]/Y_0.shape[0]))\r\n",
        "X_3=np.tile(X3,int(X_0.shape[0]/Y_0.shape[0]))\r\n",
        "X_4=np.tile(X4,int(X_0.shape[0]/Y_0.shape[0]))\r\n",
        "X_5=np.tile(X5,int(X_0.shape[0]/Y_0.shape[0]))\r\n",
        "X_6=np.tile(X6,int(X_0.shape[0]/Y_0.shape[0]))\r\n",
        "X_7=np.tile(X7,int(X_0.shape[0]/Y_0.shape[0]))\r\n",
        "X_8=np.tile(X8,int(X_0.shape[0]/Y_0.shape[0]))\r\n",
        "X_9=np.tile(X9,int(X_0.shape[0]/Y_0.shape[0]))\r\n",
        "\r\n",
        "X_10=np.tile(X_01,int(X_0.shape[0]/Y_0.shape[0]))\r\n",
        "X_11=np.tile(X_02,int(X_0.shape[0]/Y_0.shape[0]))\r\n",
        "X_12=np.tile(X_03,int(X_0.shape[0]/Y_0.shape[0]))\r\n",
        "X_13=np.tile(X_04,int(X_0.shape[0]/Y_0.shape[0]))\r\n",
        "\r\n",
        "Y=np.tile(Y_0,int(X_0.shape[0]/Y_0.shape[0]))\r\n",
        "X=np.vstack((X_0,X_1,X_2,X_3,X_4,X_5,X_8,X_9,X_10,X_11,X_12))"
      ],
      "execution_count": 24,
      "outputs": [
        {
          "output_type": "error",
          "ename": "NameError",
          "evalue": "ignored",
          "traceback": [
            "\u001b[0;31m---------------------------------------------------------------------------\u001b[0m",
            "\u001b[0;31mNameError\u001b[0m                                 Traceback (most recent call last)",
            "\u001b[0;32m<ipython-input-24-9b879fc6f461>\u001b[0m in \u001b[0;36m<module>\u001b[0;34m()\u001b[0m\n\u001b[1;32m     46\u001b[0m \u001b[0mX_11\u001b[0m\u001b[0;34m=\u001b[0m\u001b[0mnp\u001b[0m\u001b[0;34m.\u001b[0m\u001b[0mtile\u001b[0m\u001b[0;34m(\u001b[0m\u001b[0mX_02\u001b[0m\u001b[0;34m,\u001b[0m\u001b[0mint\u001b[0m\u001b[0;34m(\u001b[0m\u001b[0mX_0\u001b[0m\u001b[0;34m.\u001b[0m\u001b[0mshape\u001b[0m\u001b[0;34m[\u001b[0m\u001b[0;36m0\u001b[0m\u001b[0;34m]\u001b[0m\u001b[0;34m/\u001b[0m\u001b[0mY_0\u001b[0m\u001b[0;34m.\u001b[0m\u001b[0mshape\u001b[0m\u001b[0;34m[\u001b[0m\u001b[0;36m0\u001b[0m\u001b[0;34m]\u001b[0m\u001b[0;34m)\u001b[0m\u001b[0;34m)\u001b[0m\u001b[0;34m\u001b[0m\u001b[0;34m\u001b[0m\u001b[0m\n\u001b[1;32m     47\u001b[0m \u001b[0mX_12\u001b[0m\u001b[0;34m=\u001b[0m\u001b[0mnp\u001b[0m\u001b[0;34m.\u001b[0m\u001b[0mtile\u001b[0m\u001b[0;34m(\u001b[0m\u001b[0mX_03\u001b[0m\u001b[0;34m,\u001b[0m\u001b[0mint\u001b[0m\u001b[0;34m(\u001b[0m\u001b[0mX_0\u001b[0m\u001b[0;34m.\u001b[0m\u001b[0mshape\u001b[0m\u001b[0;34m[\u001b[0m\u001b[0;36m0\u001b[0m\u001b[0;34m]\u001b[0m\u001b[0;34m/\u001b[0m\u001b[0mY_0\u001b[0m\u001b[0;34m.\u001b[0m\u001b[0mshape\u001b[0m\u001b[0;34m[\u001b[0m\u001b[0;36m0\u001b[0m\u001b[0;34m]\u001b[0m\u001b[0;34m)\u001b[0m\u001b[0;34m)\u001b[0m\u001b[0;34m\u001b[0m\u001b[0;34m\u001b[0m\u001b[0m\n\u001b[0;32m---> 48\u001b[0;31m \u001b[0mX_13\u001b[0m\u001b[0;34m=\u001b[0m\u001b[0mnp\u001b[0m\u001b[0;34m.\u001b[0m\u001b[0mtile\u001b[0m\u001b[0;34m(\u001b[0m\u001b[0mX_04\u001b[0m\u001b[0;34m,\u001b[0m\u001b[0mint\u001b[0m\u001b[0;34m(\u001b[0m\u001b[0mX_0\u001b[0m\u001b[0;34m.\u001b[0m\u001b[0mshape\u001b[0m\u001b[0;34m[\u001b[0m\u001b[0;36m0\u001b[0m\u001b[0;34m]\u001b[0m\u001b[0;34m/\u001b[0m\u001b[0mY_0\u001b[0m\u001b[0;34m.\u001b[0m\u001b[0mshape\u001b[0m\u001b[0;34m[\u001b[0m\u001b[0;36m0\u001b[0m\u001b[0;34m]\u001b[0m\u001b[0;34m)\u001b[0m\u001b[0;34m)\u001b[0m\u001b[0;34m\u001b[0m\u001b[0;34m\u001b[0m\u001b[0m\n\u001b[0m\u001b[1;32m     49\u001b[0m \u001b[0;34m\u001b[0m\u001b[0m\n\u001b[1;32m     50\u001b[0m \u001b[0mY\u001b[0m\u001b[0;34m=\u001b[0m\u001b[0mnp\u001b[0m\u001b[0;34m.\u001b[0m\u001b[0mtile\u001b[0m\u001b[0;34m(\u001b[0m\u001b[0mY_0\u001b[0m\u001b[0;34m,\u001b[0m\u001b[0mint\u001b[0m\u001b[0;34m(\u001b[0m\u001b[0mX_0\u001b[0m\u001b[0;34m.\u001b[0m\u001b[0mshape\u001b[0m\u001b[0;34m[\u001b[0m\u001b[0;36m0\u001b[0m\u001b[0;34m]\u001b[0m\u001b[0;34m/\u001b[0m\u001b[0mY_0\u001b[0m\u001b[0;34m.\u001b[0m\u001b[0mshape\u001b[0m\u001b[0;34m[\u001b[0m\u001b[0;36m0\u001b[0m\u001b[0;34m]\u001b[0m\u001b[0;34m)\u001b[0m\u001b[0;34m)\u001b[0m\u001b[0;34m\u001b[0m\u001b[0;34m\u001b[0m\u001b[0m\n",
            "\u001b[0;31mNameError\u001b[0m: name 'X_04' is not defined"
          ]
        }
      ]
    },
    {
      "cell_type": "code",
      "metadata": {
        "id": "IqzIzzrDbUlx"
      },
      "source": [
        "print(X_0.shape)\r\n",
        "print(X_1.shape)"
      ],
      "execution_count": null,
      "outputs": []
    },
    {
      "cell_type": "code",
      "metadata": {
        "id": "8Hj10eZVCVZF"
      },
      "source": [
        "X1,Y1=import_files('1668','500AC','1AC','1')"
      ],
      "execution_count": null,
      "outputs": []
    },
    {
      "cell_type": "code",
      "metadata": {
        "id": "4FWxY_FQCKm-"
      },
      "source": [
        "X2,Y2=import_files('testowa','500AC','1AC','2')"
      ],
      "execution_count": null,
      "outputs": []
    },
    {
      "cell_type": "code",
      "metadata": {
        "id": "l1SyMSNYp_xi"
      },
      "source": [
        "X3,Y3=import_files('10301','500AC','1AC','2')"
      ],
      "execution_count": null,
      "outputs": []
    },
    {
      "cell_type": "code",
      "metadata": {
        "id": "EST6bvyzOtoi"
      },
      "source": [
        "X4,Y4=import_files('pudelko1','500AC','1AC','2')"
      ],
      "execution_count": null,
      "outputs": []
    },
    {
      "cell_type": "code",
      "metadata": {
        "id": "88yx7ygID3Fe"
      },
      "source": [
        "X5,Y5=import_files('pudelko2','500AC','2AC','5')"
      ],
      "execution_count": null,
      "outputs": []
    },
    {
      "cell_type": "code",
      "metadata": {
        "id": "c9Q5Au-My8rj"
      },
      "source": [
        "print(X.shape)\r\n",
        "print(X1.shape)\r\n",
        "print(X2.shape)\r\n",
        "print(X3.shape)\r\n",
        "print(X4.shape)\r\n",
        "print(X5.shape)\r\n",
        "print(Y.shape)"
      ],
      "execution_count": null,
      "outputs": []
    },
    {
      "cell_type": "code",
      "metadata": {
        "id": "iKSiOGeG0KCS"
      },
      "source": [
        "X=np.transpose(X)\r\n",
        "X1=np.transpose(X1)\r\n",
        "X2=np.transpose(X2)\r\n",
        "X3=np.transpose(X3)\r\n",
        "X4=np.transpose(X4)\r\n",
        "X5=np.transpose(X5)"
      ],
      "execution_count": null,
      "outputs": []
    },
    {
      "cell_type": "code",
      "metadata": {
        "id": "dqOghepl0UOs"
      },
      "source": [
        "X_fin=np.vstack((X,X1,X2,X3,X4,X5))\r\n",
        "Y_fin=np.hstack((Y,Y1,Y2,Y3,Y4,Y5))"
      ],
      "execution_count": null,
      "outputs": []
    },
    {
      "cell_type": "code",
      "metadata": {
        "id": "cb4LZYa5-NwR"
      },
      "source": [
        "plt.plot(X[:,0])\r\n",
        "plt.plot(Y)"
      ],
      "execution_count": null,
      "outputs": []
    },
    {
      "cell_type": "code",
      "metadata": {
        "id": "7Lej8E5RDklX"
      },
      "source": [
        "plt.plot(X_fin[:,0])\r\n",
        "plt.plot(Y_fin)"
      ],
      "execution_count": null,
      "outputs": []
    },
    {
      "cell_type": "code",
      "metadata": {
        "id": "zxwqbplZ0eDk"
      },
      "source": [
        "scalerX = StandardScaler()\r\n",
        "scalerY = StandardScaler()\r\n",
        "X_fin=scalerX.fit_transform(X_fin)\r\n",
        "Y_fin=Y_fin.reshape(-1,1)\r\n",
        "Y_fin=scalerY.fit_transform(Y_fin)"
      ],
      "execution_count": null,
      "outputs": []
    },
    {
      "cell_type": "code",
      "metadata": {
        "id": "cOw6FWWkFKNv"
      },
      "source": [
        "print(X_fin.shape[0]/Y_0.shape[0])\r\n",
        "print(Y_fin.shape)"
      ],
      "execution_count": null,
      "outputs": []
    },
    {
      "cell_type": "code",
      "metadata": {
        "id": "s4VGXbWR48yM"
      },
      "source": [
        "X_fin=np.round(X_fin,decimals=6)\r\n",
        "Y_fin=np.round(Y_fin,decimals=6)"
      ],
      "execution_count": null,
      "outputs": []
    },
    {
      "cell_type": "code",
      "metadata": {
        "id": "oxchPSrN6bh9"
      },
      "source": [
        "plt.plot(X_fin[:,0])\r\n",
        "plt.plot(Y_fin)"
      ],
      "execution_count": null,
      "outputs": []
    },
    {
      "cell_type": "code",
      "metadata": {
        "id": "aIahafIB4njN"
      },
      "source": [
        "X_train,y_train=X_fin[:25*Y_0.shape[0],:],Y_fin[:25*Y_0.shape[0]]\r\n",
        "X_test,y_test=X_fin[25*Y_0.shape[0]:26*Y_0.shape[0],:],Y_fin[25*Y_0.shape[0]:26*Y_0.shape[0]]"
      ],
      "execution_count": null,
      "outputs": []
    },
    {
      "cell_type": "code",
      "metadata": {
        "id": "esElZ9ev4eiL"
      },
      "source": [
        "plt.plot(X_train[24*Y_0.shape[0]:,0])\r\n",
        "plt.plot(y_train[24*Y_0.shape[0]:])"
      ],
      "execution_count": null,
      "outputs": []
    },
    {
      "cell_type": "code",
      "metadata": {
        "id": "276BMe014xmu"
      },
      "source": [
        "plt.plot(y_train[24*Y_0.shape[0]:])\r\n",
        "plt.plot(y_test[:])"
      ],
      "execution_count": null,
      "outputs": []
    },
    {
      "cell_type": "code",
      "metadata": {
        "id": "3pEE5OMEhUi_"
      },
      "source": [
        "look_back =30\r\n",
        "trainX, trainY = create_dataset(X_train,y_train, look_back)\r\n",
        "testX, testY = create_dataset(X_test,y_test, look_back)\r\n",
        "# reshape input to be [samples, time steps, features]\r\n",
        "trainX = np.reshape(trainX, (trainX.shape[0], 11, trainX.shape[1]))\r\n",
        "testX = np.reshape(testX, (testX.shape[0], 11, testX.shape[1]))"
      ],
      "execution_count": null,
      "outputs": []
    },
    {
      "cell_type": "code",
      "metadata": {
        "id": "yVHuBwcZlGHm"
      },
      "source": [
        "model = Sequential()\r\n",
        "model.add(Bidirectional(LSTM(16, input_shape=(12, look_back),kernel_initializer='he_uniform')))\r\n",
        "model.add(Dense(32, activation='relu'))\r\n",
        "model.add(Dense(1,activation='linear'))\r\n",
        "model.compile(loss='mean_squared_error', optimizer='RMSprop',metrics=['mse','mae'])\r\n",
        "history=model.fit(trainX, trainY,validation_data=(testX, testY), epochs=10, batch_size=10000)\r\n",
        "\r\n",
        "plt.plot(history.history['mse'])\r\n",
        "plt.plot(history.history['loss'],label='train')\r\n",
        "plt.plot(history.history['val_loss'],label='val')\r\n",
        "plt.ylim(0.0001,0.1)\r\n",
        "plt.yscale('log')\r\n",
        "plt.legend()\r\n",
        "plt.show()"
      ],
      "execution_count": null,
      "outputs": []
    },
    {
      "cell_type": "code",
      "metadata": {
        "id": "cIRgYVY2lOaQ"
      },
      "source": [
        "model.fit(trainX, trainY,validation_data=(testX, testY), epochs=1, batch_size=10000)\r\n",
        "trainPredict = model.predict(trainX)\r\n",
        "testPredict = model.predict(testX)"
      ],
      "execution_count": null,
      "outputs": []
    },
    {
      "cell_type": "code",
      "metadata": {
        "id": "O3thNHl13-h5"
      },
      "source": [
        "plt.figure(figsize=(20,10))\r\n",
        "plt.plot(testPredict,color='red')\r\n",
        "plt.plot(testY,color='black')\r\n",
        "plt.plot(testX[:,0,0],color='green')\r\n",
        "#plt.xlim(25000,35000)"
      ],
      "execution_count": null,
      "outputs": []
    },
    {
      "cell_type": "code",
      "metadata": {
        "id": "o8m-qk5FTdqI"
      },
      "source": [
        "plt.figure(figsize=(20,10))\r\n",
        "plt.plot(testPredict,color='red')\r\n",
        "plt.plot(testY,color='black')\r\n",
        "plt.plot(testX[:,0,0],color='green')\r\n",
        "#plt.xlim(25000,35000)"
      ],
      "execution_count": null,
      "outputs": []
    },
    {
      "cell_type": "code",
      "metadata": {
        "id": "tki_b5tdJuNq"
      },
      "source": [
        "model = Sequential()\r\n",
        "model.add(Bidirectional(LSTM(32, input_shape=(11, look_back),kernel_initializer='he_uniform')))\r\n",
        "model.add(Dense(64, activation='relu'))\r\n",
        "model.add(Dense(1,activation='linear'))\r\n",
        "model.compile(loss='mean_squared_error', optimizer='RMSprop',metrics=['mse','mae'])\r\n",
        "history=model.fit(trainX, trainY,validation_data=(testX, testY), epochs=10, batch_size=10000)\r\n",
        "\r\n",
        "plt.plot(history.history['mse'])\r\n",
        "plt.plot(history.history['loss'],label='train')\r\n",
        "plt.plot(history.history['val_loss'],label='val')\r\n",
        "\r\n",
        "plt.legend()\r\n",
        "plt.show()"
      ],
      "execution_count": null,
      "outputs": []
    },
    {
      "cell_type": "code",
      "metadata": {
        "id": "O3wq8M3BJxTj"
      },
      "source": [
        "model.fit(trainX, trainY,validation_data=(testX, testY), epochs=1, batch_size=10000)\r\n",
        "trainPredict = model.predict(trainX)\r\n",
        "testPredict = model.predict(testX)"
      ],
      "execution_count": null,
      "outputs": []
    },
    {
      "cell_type": "code",
      "metadata": {
        "id": "HYkz2krc5N6D"
      },
      "source": [
        "plt.figure(figsize=(20,10))\r\n",
        "plt.plot(testPredict,color='red')\r\n",
        "plt.plot(testY,color='black')\r\n",
        "plt.plot(testX[:,0,0],color='green')\r\n",
        "#plt.xlim(25000,35000)"
      ],
      "execution_count": null,
      "outputs": []
    },
    {
      "cell_type": "code",
      "metadata": {
        "id": "LmzJHHTy5l5x"
      },
      "source": [
        "plt.figure(figsize=(20,10))\r\n",
        "plt.plot(testPredict,color='red')\r\n",
        "plt.plot(testY,color='black')\r\n",
        "plt.plot(testX[:,0,0],color='green')\r\n",
        "plt.xlim(25000,40000)"
      ],
      "execution_count": null,
      "outputs": []
    },
    {
      "cell_type": "code",
      "metadata": {
        "id": "XpP_Yklcy_Ag"
      },
      "source": [
        "plt.figure(figsize=(20,10))\r\n",
        "plt.plot(testPredict,color='red')\r\n",
        "plt.plot(testY,color='black')\r\n",
        "plt.plot(testX[:,0,0],color='green')\r\n",
        "#plt.xlim(25000,35000)"
      ],
      "execution_count": null,
      "outputs": []
    },
    {
      "cell_type": "code",
      "metadata": {
        "id": "VopPlm1gUdOP"
      },
      "source": [
        "plt.figure(figsize=(20,10))\r\n",
        "plt.plot(testPredict,color='red')\r\n",
        "plt.plot(testY,color='black')\r\n",
        "plt.plot(testX[:,0,0],color='green')\r\n",
        "#plt.xlim(25000,35000)"
      ],
      "execution_count": null,
      "outputs": []
    },
    {
      "cell_type": "code",
      "metadata": {
        "id": "-56ZS8RnU0O4"
      },
      "source": [
        "model = Sequential()\r\n",
        "model.add(Bidirectional(LSTM(32, input_shape=(11, look_back),kernel_initializer='he_uniform')))\r\n",
        "model.add(Dropout(0.2))\r\n",
        "model.add(Dense(64, activation='relu'))\r\n",
        "model.add(Dropout(0.2))\r\n",
        "model.add(Dense(1,activation='linear'))\r\n",
        "model.compile(loss='mean_squared_error', optimizer='RMSprop',metrics=['mse','mae'])\r\n",
        "history=model.fit(trainX, trainY,validation_data=(testX, testY), epochs=10, batch_size=10000)\r\n",
        "\r\n",
        "plt.plot(history.history['mse'])\r\n",
        "plt.plot(history.history['loss'],label='train')\r\n",
        "plt.plot(history.history['val_loss'],label='val')\r\n",
        "\r\n",
        "plt.legend()\r\n",
        "plt.show()"
      ],
      "execution_count": null,
      "outputs": []
    },
    {
      "cell_type": "code",
      "metadata": {
        "id": "2FPp7U-IU-Zl"
      },
      "source": [
        "model.fit(trainX, trainY,validation_data=(testX, testY), epochs=1, batch_size=10000)\r\n",
        "trainPredict = model.predict(trainX)\r\n",
        "testPredict = model.predict(testX)"
      ],
      "execution_count": null,
      "outputs": []
    },
    {
      "cell_type": "code",
      "metadata": {
        "id": "s8r8XlZGzX3k"
      },
      "source": [
        "plt.figure(figsize=(20,10))\r\n",
        "plt.plot(testPredict,color='red')\r\n",
        "plt.plot(testY,color='black')\r\n",
        "plt.plot(testX[:,0,0],color='green')\r\n",
        "#plt.xlim(25000,35000)"
      ],
      "execution_count": null,
      "outputs": []
    },
    {
      "cell_type": "code",
      "metadata": {
        "id": "P0rtOqcwVEoD"
      },
      "source": [
        "plt.figure(figsize=(20,10))\r\n",
        "plt.plot(testPredict,color='red')\r\n",
        "plt.plot(testY,color='black')\r\n",
        "plt.plot(testX[:,0,0],color='green')\r\n",
        "#plt.xlim(25000,35000)"
      ],
      "execution_count": null,
      "outputs": []
    },
    {
      "cell_type": "code",
      "metadata": {
        "id": "FNxgUL-6Vc4X"
      },
      "source": [
        "model = Sequential()\r\n",
        "model.add(Bidirectional(LSTM(16, input_shape=(11, look_back),kernel_initializer='he_uniform')))\r\n",
        "model.add(Dropout(0.2))\r\n",
        "model.add(Dense(32, activation='relu'))\r\n",
        "model.add(Dropout(0.2))\r\n",
        "model.add(Dense(1,activation='linear'))\r\n",
        "model.compile(loss='mean_squared_error', optimizer='RMSprop',metrics=['mse','mae'])\r\n",
        "history=model.fit(trainX, trainY,validation_data=(testX, testY), epochs=10, batch_size=10000)\r\n",
        "\r\n",
        "plt.plot(history.history['mse'])\r\n",
        "plt.plot(history.history['loss'],label='train')\r\n",
        "plt.plot(history.history['val_loss'],label='val')\r\n",
        "\r\n",
        "plt.legend()\r\n",
        "plt.show()"
      ],
      "execution_count": null,
      "outputs": []
    },
    {
      "cell_type": "code",
      "metadata": {
        "id": "Jz-TmQHSVhs3"
      },
      "source": [
        "model.fit(trainX, trainY,validation_data=(testX, testY), epochs=1, batch_size=10000)\r\n",
        "trainPredict = model.predict(trainX)\r\n",
        "testPredict = model.predict(testX)"
      ],
      "execution_count": null,
      "outputs": []
    },
    {
      "cell_type": "code",
      "metadata": {
        "id": "KInSxWqm0Mrw"
      },
      "source": [
        "plt.figure(figsize=(20,10))\r\n",
        "plt.plot(testPredict,color='red')\r\n",
        "plt.plot(testY,color='black')\r\n",
        "plt.plot(testX[:,0,0],color='green')"
      ],
      "execution_count": null,
      "outputs": []
    },
    {
      "cell_type": "code",
      "metadata": {
        "id": "6i4Q2cJvV6-G"
      },
      "source": [
        "plt.figure(figsize=(20,10))\r\n",
        "plt.plot(testPredict,color='red')\r\n",
        "plt.plot(testY,color='black')\r\n",
        "plt.plot(testX[:,0,0],color='green')"
      ],
      "execution_count": null,
      "outputs": []
    },
    {
      "cell_type": "code",
      "metadata": {
        "id": "UqlbyO8wxISJ"
      },
      "source": [
        "model = Sequential()\r\n",
        "model.add(Bidirectional(LSTM(16, input_shape=(11, look_back),kernel_initializer='he_uniform')))\r\n",
        "model.add(Dropout(0.2))\r\n",
        "model.add(Dense(16, activation='relu'))\r\n",
        "model.add(Dropout(0.2))\r\n",
        "model.add(Dense(1,activation='linear'))\r\n",
        "model.compile(loss='mean_squared_error', optimizer='RMSprop',metrics=['mse','mae'])\r\n",
        "history=model.fit(trainX, trainY,validation_data=(testX, testY), epochs=5, batch_size=10000)\r\n",
        "\r\n",
        "plt.plot(history.history['mse'])\r\n",
        "plt.plot(history.history['loss'],label='train')\r\n",
        "plt.plot(history.history['val_loss'],label='val')\r\n",
        "\r\n",
        "plt.legend()\r\n",
        "plt.show()"
      ],
      "execution_count": null,
      "outputs": []
    },
    {
      "cell_type": "code",
      "metadata": {
        "id": "kH-2jbpTxOHX"
      },
      "source": [
        "model.fit(trainX, trainY,validation_data=(testX, testY), epochs=1, batch_size=10000)\r\n",
        "trainPredict = model.predict(trainX)\r\n",
        "testPredict = model.predict(testX)\r\n",
        "plt.figure(figsize=(20,10))\r\n",
        "plt.plot(testPredict,color='red')\r\n",
        "plt.plot(testY,color='black')\r\n",
        "plt.plot(testX[:,0,0],color='green')"
      ],
      "execution_count": null,
      "outputs": []
    }
  ]
}