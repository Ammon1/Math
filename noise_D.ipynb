{
  "nbformat": 4,
  "nbformat_minor": 0,
  "metadata": {
    "colab": {
      "name": "noise_D",
      "provenance": [],
      "collapsed_sections": [],
      "include_colab_link": true
    },
    "kernelspec": {
      "display_name": "Python 3",
      "name": "python3"
    },
    "accelerator": "GPU"
  },
  "cells": [
    {
      "cell_type": "markdown",
      "metadata": {
        "id": "view-in-github",
        "colab_type": "text"
      },
      "source": [
        "<a href=\"https://colab.research.google.com/github/Ammon1/Math/blob/master/noise_D.ipynb\" target=\"_parent\"><img src=\"https://colab.research.google.com/assets/colab-badge.svg\" alt=\"Open In Colab\"/></a>"
      ]
    },
    {
      "cell_type": "code",
      "metadata": {
        "colab": {
          "base_uri": "https://localhost:8080/"
        },
        "id": "_jubea7EytaR",
        "outputId": "d7a09df2-289d-4441-8d28-cbc70507c778"
      },
      "source": [
        "from google.colab import drive\r\n",
        "drive.mount('/content/drive/')"
      ],
      "execution_count": 1,
      "outputs": [
        {
          "output_type": "stream",
          "text": [
            "Mounted at /content/drive/\n"
          ],
          "name": "stdout"
        }
      ]
    },
    {
      "cell_type": "code",
      "metadata": {
        "id": "OdA_LJS1yzaE"
      },
      "source": [
        "import pandas as pd\r\n",
        "import numpy as np\r\n",
        "import glob\r\n",
        "import os\r\n",
        "import matplotlib.pyplot as plt\r\n",
        "from sklearn.svm import SVR\r\n",
        "from sklearn.pipeline import make_pipeline\r\n",
        "from sklearn.preprocessing import StandardScaler\r\n",
        "from sklearn.ensemble import RandomForestRegressor\r\n",
        "\r\n",
        "from tensorflow.keras.models import Sequential\r\n",
        "from tensorflow.keras.layers import Dense,Dropout\r\n",
        "#from keras.layers import \r\n",
        "import tensorflow as tf\r\n",
        "from keras import backend as K\r\n",
        "\r\n",
        "\r\n",
        "import xgboost as xgb"
      ],
      "execution_count": 2,
      "outputs": []
    },
    {
      "cell_type": "code",
      "metadata": {
        "colab": {
          "base_uri": "https://localhost:8080/"
        },
        "id": "H4cXC5AeCozS",
        "outputId": "3a5b30bc-22cd-415b-e72d-e0ed5389f2fb"
      },
      "source": [
        "print(\"Num GPUs Available: \", len(tf.config.experimental.list_physical_devices('GPU')))"
      ],
      "execution_count": 3,
      "outputs": [
        {
          "output_type": "stream",
          "text": [
            "Num GPUs Available:  1\n"
          ],
          "name": "stdout"
        }
      ]
    },
    {
      "cell_type": "code",
      "metadata": {
        "id": "M_BiKUFPy1Pc"
      },
      "source": [
        "path='/content/drive/MyDrive/fizyka/ftir_noise/'\r\n",
        "arr = os.listdir(path)"
      ],
      "execution_count": 18,
      "outputs": []
    },
    {
      "cell_type": "code",
      "metadata": {
        "colab": {
          "base_uri": "https://localhost:8080/"
        },
        "id": "w8fqGdX4y26b",
        "outputId": "1acd9a51-b527-4abe-c7ae-b7082fe160a9"
      },
      "source": [
        "i=0\r\n",
        "j=0\r\n",
        "for file in arr:\r\n",
        "    if 'dpt' in file:\r\n",
        "       #pomair dokladny\r\n",
        "       if '100sc' in file and 'bcg'not in file and 'MIR' in file:\r\n",
        "           globals()['df_Y']=pd.read_csv(path+file,sep=',')\r\n",
        "       #pomiar niedokladny\r\n",
        "       elif '1sc' in file and 'bcg' not in file and 'MIR' in file:    \r\n",
        "           print('i ',i)\r\n",
        "           globals()['df'+str(i)]=pd.read_csv(path+file,sep=',')\r\n",
        "           i=i+1\r\n",
        "      #pomiar tla\r\n",
        "       elif '1sc' in file and 'bcg' in file and 'MIR' in file:  \r\n",
        "           print('bck j ',j)\r\n",
        "           globals()['df_bg'+str(j)]=pd.read_csv(path+file,sep=',')\r\n",
        "           j=j+1"
      ],
      "execution_count": 33,
      "outputs": [
        {
          "output_type": "stream",
          "text": [
            "bck j  0\n",
            "bck j  1\n",
            "bck j  2\n",
            "bck j  3\n",
            "bck j  4\n",
            "i  0\n",
            "i  1\n",
            "i  2\n",
            "i  3\n",
            "i  4\n",
            "i  5\n",
            "i  6\n",
            "bck j  5\n"
          ],
          "name": "stdout"
        }
      ]
    },
    {
      "cell_type": "code",
      "metadata": {
        "id": "U6op4BXUy5BM"
      },
      "source": [
        "Y_0=df_Y.iloc[:,1].values\r\n",
        "\r\n",
        "X_0=np.hstack((\r\n",
        "            df1.iloc[:,1],\r\n",
        "            df2.iloc[:,1],\r\n",
        "            df3.iloc[:,1],\r\n",
        "            df4.iloc[:,1],\r\n",
        "            df5.iloc[:,1],))\r\n",
        "\r\n",
        "X_01=np.arange(0,df_Y.iloc[:,1].shape[0])\r\n",
        "X_02=np.power(X_01,2)\r\n",
        "X_03=np.power(X_01,3)\r\n",
        "\r\n",
        "X0=df_bg0.iloc[:,1].values\r\n",
        "X1=df_bg1.iloc[:,1].values\r\n",
        "X2=df_bg2.iloc[:,1].values\r\n",
        "X3=df_bg3.iloc[:,1].values\r\n",
        "X4=df_bg4.iloc[:,1].values\r\n",
        "X5=df_bg5.iloc[:,1].values\r\n",
        "\r\n",
        "\r\n",
        "X_1=np.tile(X1,int(X_0.shape[0]/Y_0.shape[0]))\r\n",
        "X_2=np.tile(X2,int(X_0.shape[0]/Y_0.shape[0]))\r\n",
        "X_3=np.tile(X3,int(X_0.shape[0]/Y_0.shape[0]))\r\n",
        "X_4=np.tile(X4,int(X_0.shape[0]/Y_0.shape[0]))\r\n",
        "X_5=np.tile(X5,int(X_0.shape[0]/Y_0.shape[0]))\r\n",
        "X_8=np.tile(X_01,int(X_0.shape[0]/Y_0.shape[0]))\r\n",
        "X_9=np.tile(X_02,int(X_0.shape[0]/Y_0.shape[0]))\r\n",
        "X_10=np.tile(X_03,int(X_0.shape[0]/Y_0.shape[0]))\r\n",
        "\r\n",
        "Y=np.tile(Y_0,int(X_0.shape[0]/Y_0.shape[0]))\r\n",
        "X=np.vstack((X_0,X_1,X_2,X_3,X_4,X_5,X_8,X_9,X_10))"
      ],
      "execution_count": 34,
      "outputs": []
    },
    {
      "cell_type": "code",
      "metadata": {
        "colab": {
          "base_uri": "https://localhost:8080/",
          "height": 296
        },
        "id": "Afk6YvXR-6iH",
        "outputId": "4bf3e85d-4655-4b9f-a01c-270b707e0d56"
      },
      "source": [
        "plt.plot(X[0,:])\r\n",
        "plt.plot(Y/60)"
      ],
      "execution_count": 44,
      "outputs": [
        {
          "output_type": "execute_result",
          "data": {
            "text/plain": [
              "[<matplotlib.lines.Line2D at 0x7fb9703545c0>]"
            ]
          },
          "metadata": {
            "tags": []
          },
          "execution_count": 44
        },
        {
          "output_type": "display_data",
          "data": {
            "image/png": "[encoded data removed]",
            "text/plain": [
              "<Figure size 432x288 with 1 Axes>"
            ]
          },
          "metadata": {
            "tags": [],
            "needs_background": "light"
          }
        }
      ]
    },
    {
      "cell_type": "code",
      "metadata": {
        "colab": {
          "base_uri": "https://localhost:8080/"
        },
        "id": "gWGkoMQsz07_",
        "outputId": "05b66069-07ae-4c72-9c17-a03de75ae6a9"
      },
      "source": [
        "i=0\r\n",
        "j=0\r\n",
        "for file in arr:\r\n",
        "    if 'dpt' in file:\r\n",
        "       #pomair dokladny\r\n",
        "       if '100sc' in file and 'bcg'not in file and '541' in file:\r\n",
        "           globals()['df_Y']=pd.read_csv(path+file,sep=',')\r\n",
        "       #pomiar niedokladny\r\n",
        "       elif '10sc' in file and 'bcg' not in file and '541' in file:    \r\n",
        "           print('i ',i)\r\n",
        "           globals()['df'+str(i)]=pd.read_csv(path+file,sep=',')\r\n",
        "           i=i+1"
      ],
      "execution_count": 45,
      "outputs": [
        {
          "output_type": "stream",
          "text": [
            "i  0\n",
            "i  1\n",
            "i  2\n",
            "i  3\n",
            "i  4\n",
            "i  5\n"
          ],
          "name": "stdout"
        }
      ]
    },
    {
      "cell_type": "code",
      "metadata": {
        "id": "z0LY6AFvz6HD"
      },
      "source": [
        "Y_0=df_Y.iloc[:,1].values\r\n",
        "\r\n",
        "X_0=np.hstack((\r\n",
        "            df1.iloc[:,1],\r\n",
        "            df2.iloc[:,1],\r\n",
        "            df3.iloc[:,1],\r\n",
        "            df4.iloc[:,1],\r\n",
        "            df5.iloc[:,1]))\r\n",
        "Y1=np.tile(Y_0,int(X_0.shape[0]/Y_0.shape[0]))\r\n",
        "X1=np.vstack((X_0,X_1,X_2,X_3,X_4,X_5,X_8,X_9,X_10))"
      ],
      "execution_count": 46,
      "outputs": []
    },
    {
      "cell_type": "code",
      "metadata": {
        "colab": {
          "base_uri": "https://localhost:8080/",
          "height": 296
        },
        "id": "igtR54LX_cv3",
        "outputId": "6043e0aa-948f-4a7e-e40f-075ea30ca481"
      },
      "source": [
        "plt.plot(X1[0,:])\r\n",
        "plt.plot(Y1)"
      ],
      "execution_count": 47,
      "outputs": [
        {
          "output_type": "execute_result",
          "data": {
            "text/plain": [
              "[<matplotlib.lines.Line2D at 0x7fb97030b978>]"
            ]
          },
          "metadata": {
            "tags": []
          },
          "execution_count": 47
        },
        {
          "output_type": "display_data",
          "data": {
            "image/png": "[encoded data removed]",
            "text/plain": [
              "<Figure size 432x288 with 1 Axes>"
            ]
          },
          "metadata": {
            "tags": [],
            "needs_background": "light"
          }
        }
      ]
    },
    {
      "cell_type": "code",
      "metadata": {
        "colab": {
          "base_uri": "https://localhost:8080/"
        },
        "id": "7XsBokJh5lj1",
        "outputId": "82be20f2-669d-4cde-a7d5-53b0b2e53560"
      },
      "source": [
        "i=0\r\n",
        "j=0\r\n",
        "for file in arr:\r\n",
        "    if 'dpt' in file:\r\n",
        "       #pomair dokladny\r\n",
        "       if '100AC' in file and 'bcg'not in file and '4734' in file:\r\n",
        "           globals()['df_Y']=pd.read_csv(path+file,sep=',')\r\n",
        "       #pomiar niedokladny\r\n",
        "       elif '2AC' in file and 'bcg' not in file and '4734' in file:    \r\n",
        "           print('i ',i)\r\n",
        "           globals()['df'+str(i)]=pd.read_csv(path+file,sep=',')\r\n",
        "           i=i+1"
      ],
      "execution_count": 51,
      "outputs": [
        {
          "output_type": "stream",
          "text": [
            "i  0\n",
            "i  1\n",
            "i  2\n",
            "i  3\n",
            "i  4\n"
          ],
          "name": "stdout"
        }
      ]
    },
    {
      "cell_type": "code",
      "metadata": {
        "id": "jfltEpld5zhl"
      },
      "source": [
        "Y_0=df_Y.iloc[:,1].values\r\n",
        "\r\n",
        "X_0=np.hstack((\r\n",
        "            df0.iloc[:,1],\r\n",
        "            df1.iloc[:,1],\r\n",
        "            df2.iloc[:,1],\r\n",
        "            df3.iloc[:,1],\r\n",
        "            df4.iloc[:,1],\r\n",
        "            ))\r\n",
        "Y2=np.tile(Y_0,int(X_0.shape[0]/Y_0.shape[0]))\r\n",
        "X2=np.vstack((X_0,X_1,X_2,X_3,X_4,X_5,X_8,X_9,X_10))"
      ],
      "execution_count": 55,
      "outputs": []
    },
    {
      "cell_type": "code",
      "metadata": {
        "colab": {
          "base_uri": "https://localhost:8080/",
          "height": 296
        },
        "id": "fdxRCe00_jMV",
        "outputId": "c8836b41-66e3-4c8a-f425-65266501a072"
      },
      "source": [
        "plt.plot(X2[0,:])\r\n",
        "plt.plot(Y2)"
      ],
      "execution_count": 56,
      "outputs": [
        {
          "output_type": "execute_result",
          "data": {
            "text/plain": [
              "[<matplotlib.lines.Line2D at 0x7fb9702457b8>]"
            ]
          },
          "metadata": {
            "tags": []
          },
          "execution_count": 56
        },
        {
          "output_type": "display_data",
          "data": {
            "image/png": "[encoded data removed]",
            "text/plain": [
              "<Figure size 432x288 with 1 Axes>"
            ]
          },
          "metadata": {
            "tags": [],
            "needs_background": "light"
          }
        }
      ]
    },
    {
      "cell_type": "code",
      "metadata": {
        "colab": {
          "base_uri": "https://localhost:8080/"
        },
        "id": "h-GW3VII52wt",
        "outputId": "5a4a63aa-8b05-496f-ec97-f37b6224b375"
      },
      "source": [
        "i=0\r\n",
        "j=0\r\n",
        "for file in arr:\r\n",
        "    if 'dpt' in file:\r\n",
        "       #pomair dokladny\r\n",
        "       if '100AC' in file and 'bcg'not in file and 'H67' in file:\r\n",
        "           globals()['df_Y']=pd.read_csv(path+file,sep=',')\r\n",
        "       #pomiar niedokladny\r\n",
        "       elif '1AC' in file and 'bcg' not in file and 'H67' in file:    \r\n",
        "           print('i ',i)\r\n",
        "           globals()['df'+str(i)]=pd.read_csv(path+file,sep=',')\r\n",
        "           i=i+1"
      ],
      "execution_count": 57,
      "outputs": [
        {
          "output_type": "stream",
          "text": [
            "i  0\n",
            "i  1\n",
            "i  2\n",
            "i  3\n",
            "i  4\n"
          ],
          "name": "stdout"
        }
      ]
    },
    {
      "cell_type": "code",
      "metadata": {
        "id": "wsKiRx-g6Ak9"
      },
      "source": [
        "Y_0=df_Y.iloc[:,1].values\r\n",
        "\r\n",
        "X_0=np.hstack((\r\n",
        "            df0.iloc[:,1],\r\n",
        "            df1.iloc[:,1],\r\n",
        "            df2.iloc[:,1],\r\n",
        "            df3.iloc[:,1],\r\n",
        "            df4.iloc[:,1],\r\n",
        "            ))\r\n",
        "Y3=np.tile(Y_0,int(X_0.shape[0]/Y_0.shape[0]))\r\n",
        "X3=np.vstack((X_0,X_1,X_2,X_3,X_4,X_5,X_8,X_9,X_10))"
      ],
      "execution_count": 60,
      "outputs": []
    },
    {
      "cell_type": "code",
      "metadata": {
        "colab": {
          "base_uri": "https://localhost:8080/",
          "height": 296
        },
        "id": "DPz7yfiH_2pm",
        "outputId": "7e53e25a-605c-47b5-ca38-7707b30e2f5b"
      },
      "source": [
        "plt.plot(X3[0,:])\r\n",
        "plt.plot(Y3)"
      ],
      "execution_count": 61,
      "outputs": [
        {
          "output_type": "execute_result",
          "data": {
            "text/plain": [
              "[<matplotlib.lines.Line2D at 0x7fb97013cba8>]"
            ]
          },
          "metadata": {
            "tags": []
          },
          "execution_count": 61
        },
        {
          "output_type": "display_data",
          "data": {
            "image/png": "[encoded data removed]",
            "text/plain": [
              "<Figure size 432x288 with 1 Axes>"
            ]
          },
          "metadata": {
            "tags": [],
            "needs_background": "light"
          }
        }
      ]
    },
    {
      "cell_type": "code",
      "metadata": {
        "id": "NFSsx-z6AIgR"
      },
      "source": [
        "def import_files(sample,ac_big,ac_small,number):#H67, 100AC,1AC,3\r\n",
        "  i=0\r\n",
        "  j=0\r\n",
        "  for file in arr:\r\n",
        "      if 'dpt' in file:\r\n",
        "        #pomair dokladny\r\n",
        "        if ac_big in file and sample in file:\r\n",
        "            globals()['df_Y']=pd.read_csv(path+file,sep=',')\r\n",
        "        #pomiar niedokladny\r\n",
        "        elif ac_small in file and sample in file:    \r\n",
        "            print('i ',i)\r\n",
        "            globals()['df'+str(i)]=pd.read_csv(path+file,sep=',')\r\n",
        "            i=i+1\r\n",
        "  Y_0=df_Y.iloc[:,1].values\r\n",
        "\r\n",
        "  X_0=np.hstack((\r\n",
        "              df0.iloc[:,1],\r\n",
        "              df1.iloc[:,1],\r\n",
        "              df2.iloc[:,1],\r\n",
        "              df3.iloc[:,1],\r\n",
        "              df4.iloc[:,1],\r\n",
        "              ))\r\n",
        "  globals()['Y'+number]=np.tile(Y_0,int(X_0.shape[0]/Y_0.shape[0]))\r\n",
        "  globals()['X'+number]=np.vstack((X_0,X_1,X_2,X_3,X_4,X_5,X_8,X_9,X_10))\r\n",
        "\r\n",
        "  plt.plot(X3[0,:])\r\n",
        "  plt.plot(Y3)\r\n",
        "  return X3,Y3"
      ],
      "execution_count": 62,
      "outputs": []
    },
    {
      "cell_type": "code",
      "metadata": {
        "colab": {
          "base_uri": "https://localhost:8080/"
        },
        "id": "Y58ifQvdBZY3",
        "outputId": "1bef0f64-f978-4b78-f30d-c8cb7727b6a5"
      },
      "source": [
        "print(X3.shape)"
      ],
      "execution_count": 63,
      "outputs": [
        {
          "output_type": "stream",
          "text": [
            "(9, 1592890)\n"
          ],
          "name": "stdout"
        }
      ]
    },
    {
      "cell_type": "code",
      "metadata": {
        "colab": {
          "base_uri": "https://localhost:8080/",
          "height": 367
        },
        "id": "841o7FFQBQoQ",
        "outputId": "ba00ab88-abdf-49a4-e2cd-c2918602acec"
      },
      "source": [
        "X3,Y3=import_files('H67','100AC','1AC','3')"
      ],
      "execution_count": 64,
      "outputs": [
        {
          "output_type": "stream",
          "text": [
            "i  0\n",
            "i  1\n",
            "i  2\n",
            "i  3\n",
            "i  4\n"
          ],
          "name": "stdout"
        },
        {
          "output_type": "display_data",
          "data": {
            "image/png": "[encoded data removed]",
            "text/plain": [
              "<Figure size 432x288 with 1 Axes>"
            ]
          },
          "metadata": {
            "tags": [],
            "needs_background": "light"
          }
        }
      ]
    },
    {
      "cell_type": "code",
      "metadata": {
        "colab": {
          "base_uri": "https://localhost:8080/"
        },
        "id": "k_MFg52PBcHn",
        "outputId": "3ae3dbd7-a39e-404f-f0d2-71ba3b00f867"
      },
      "source": [
        "print(X3.shape)"
      ],
      "execution_count": 65,
      "outputs": [
        {
          "output_type": "stream",
          "text": [
            "(9, 1592890)\n"
          ],
          "name": "stdout"
        }
      ]
    },
    {
      "cell_type": "code",
      "metadata": {
        "colab": {
          "base_uri": "https://localhost:8080/"
        },
        "id": "c9Q5Au-My8rj",
        "outputId": "8483f594-3108-42b7-93b4-be058a1b1d6c"
      },
      "source": [
        "print(X.shape)\r\n",
        "print(X1.shape)\r\n",
        "print(X2.shape)\r\n",
        "print(X3.shape)\r\n",
        "print(Y.shape)"
      ],
      "execution_count": 39,
      "outputs": [
        {
          "output_type": "stream",
          "text": [
            "(9, 1592890)\n",
            "(318578,)\n",
            "(318578,)\n",
            "(318578,)\n",
            "(1592890,)\n"
          ],
          "name": "stdout"
        }
      ]
    },
    {
      "cell_type": "code",
      "metadata": {
        "id": "iKSiOGeG0KCS"
      },
      "source": [
        "X=np.transpose(X)\r\n",
        "X1=np.transpose(X1)\r\n",
        "X2=np.transpose(X2)\r\n",
        "X3=np.transpose(X3)"
      ],
      "execution_count": 29,
      "outputs": []
    },
    {
      "cell_type": "code",
      "metadata": {
        "id": "dqOghepl0UOs"
      },
      "source": [
        "X_fin=np.vstack((X,X1,X2,X3))\r\n",
        "Y_fin=np.hstack((Y/60,Y1,Y2,Y3))"
      ],
      "execution_count": 30,
      "outputs": []
    },
    {
      "cell_type": "code",
      "metadata": {
        "colab": {
          "base_uri": "https://localhost:8080/",
          "height": 186
        },
        "id": "cb4LZYa5-NwR",
        "outputId": "6b806e1d-8df4-4a6e-dbce-a4ebf814e75e"
      },
      "source": [
        "plt.plot(X1[:,0])\r\n",
        "plt.plot(Y)"
      ],
      "execution_count": 40,
      "outputs": [
        {
          "output_type": "error",
          "ename": "IndexError",
          "evalue": "ignored",
          "traceback": [
            "\u001b[0;31m---------------------------------------------------------------------------\u001b[0m",
            "\u001b[0;31mIndexError\u001b[0m                                Traceback (most recent call last)",
            "\u001b[0;32m<ipython-input-40-e8222914da71>\u001b[0m in \u001b[0;36m<module>\u001b[0;34m()\u001b[0m\n\u001b[0;32m----> 1\u001b[0;31m \u001b[0mplt\u001b[0m\u001b[0;34m.\u001b[0m\u001b[0mplot\u001b[0m\u001b[0;34m(\u001b[0m\u001b[0mX1\u001b[0m\u001b[0;34m[\u001b[0m\u001b[0;34m:\u001b[0m\u001b[0;34m,\u001b[0m\u001b[0;36m0\u001b[0m\u001b[0;34m]\u001b[0m\u001b[0;34m)\u001b[0m\u001b[0;34m\u001b[0m\u001b[0;34m\u001b[0m\u001b[0m\n\u001b[0m\u001b[1;32m      2\u001b[0m \u001b[0mplt\u001b[0m\u001b[0;34m.\u001b[0m\u001b[0mplot\u001b[0m\u001b[0;34m(\u001b[0m\u001b[0mY\u001b[0m\u001b[0;34m)\u001b[0m\u001b[0;34m\u001b[0m\u001b[0;34m\u001b[0m\u001b[0m\n",
            "\u001b[0;31mIndexError\u001b[0m: too many indices for array: array is 1-dimensional, but 2 were indexed"
          ]
        }
      ]
    },
    {
      "cell_type": "code",
      "metadata": {
        "colab": {
          "base_uri": "https://localhost:8080/"
        },
        "id": "KqMeWnh40Yk6",
        "outputId": "8c761611-1334-45a0-f294-753f411c32bf"
      },
      "source": [
        "print(X_fin.shape)\r\n",
        "print(Y_fin.shape)"
      ],
      "execution_count": null,
      "outputs": [
        {
          "output_type": "stream",
          "text": [
            "(3185780, 9)\n",
            "(3185780,)\n"
          ],
          "name": "stdout"
        }
      ]
    },
    {
      "cell_type": "code",
      "metadata": {
        "id": "zxwqbplZ0eDk"
      },
      "source": [
        "scalerX = StandardScaler()\r\n",
        "scalerY = StandardScaler()\r\n",
        "X_fin=scalerX.fit_transform(X_fin)\r\n",
        "Y_fin=Y_fin.reshape(-1,1)\r\n",
        "Y_fin=scalerY.fit_transform(Y_fin)"
      ],
      "execution_count": null,
      "outputs": []
    },
    {
      "cell_type": "code",
      "metadata": {
        "id": "aIahafIB4njN"
      },
      "source": [
        "X_train,y_train=X_fin[:9*Y_0.shape[0],:],Y_fin[:9*Y_0.shape[0]]\r\n",
        "X_test,y_test=X_fin[9*Y_0.shape[0]:10*Y_0.shape[0],:],Y_fin[9*Y_0.shape[0]:10*Y_0.shape[0]]"
      ],
      "execution_count": null,
      "outputs": []
    },
    {
      "cell_type": "code",
      "metadata": {
        "colab": {
          "base_uri": "https://localhost:8080/"
        },
        "id": "UZdEK2yX2Zz0",
        "outputId": "7bc95225-bbb5-4a5b-a0ea-f85f7aadb382"
      },
      "source": [
        "print(X_test.shape)\r\n",
        "print(X_train.shape)"
      ],
      "execution_count": null,
      "outputs": [
        {
          "output_type": "stream",
          "text": [
            "(318578, 9)\n",
            "(2867202, 9)\n"
          ],
          "name": "stdout"
        }
      ]
    },
    {
      "cell_type": "code",
      "metadata": {
        "colab": {
          "base_uri": "https://localhost:8080/"
        },
        "id": "WTTYWEMa3KMt",
        "outputId": "58a2cccb-7300-4d08-982e-ab2e493dede6"
      },
      "source": [
        "xg_reg = xgb.XGBRegressor(objective ='reg:squarederror')\r\n",
        "xg_reg.fit(X_train,y_train)"
      ],
      "execution_count": null,
      "outputs": [
        {
          "output_type": "execute_result",
          "data": {
            "text/plain": [
              "XGBRegressor(base_score=0.5, booster='gbtree', colsample_bylevel=1,\n",
              "             colsample_bynode=1, colsample_bytree=1, gamma=0,\n",
              "             importance_type='gain', learning_rate=0.1, max_delta_step=0,\n",
              "             max_depth=3, min_child_weight=1, missing=None, n_estimators=100,\n",
              "             n_jobs=1, nthread=None, objective='reg:squarederror',\n",
              "             random_state=0, reg_alpha=0, reg_lambda=1, scale_pos_weight=1,\n",
              "             seed=None, silent=None, subsample=1, verbosity=1)"
            ]
          },
          "metadata": {
            "tags": []
          },
          "execution_count": 41
        }
      ]
    },
    {
      "cell_type": "code",
      "metadata": {
        "colab": {
          "base_uri": "https://localhost:8080/",
          "height": 316
        },
        "id": "KqzM9m8r3Pil",
        "outputId": "b99f01fe-8ede-4a1d-c965-19916507d3e9"
      },
      "source": [
        "print(xg_reg.score(X_train,y_train))\r\n",
        "print(xg_reg.score(X_test,y_test))\r\n",
        "plt.plot(xg_reg.predict(X_test))\r\n",
        "plt.plot(X_test[:,0])\r\n",
        "plt.plot(y_test)"
      ],
      "execution_count": null,
      "outputs": [
        {
          "output_type": "stream",
          "text": [
            "0.8827199750228502\n",
            "-847.2419478911179\n"
          ],
          "name": "stdout"
        },
        {
          "output_type": "execute_result",
          "data": {
            "text/plain": [
              "[<matplotlib.lines.Line2D at 0x7f03ae6fb208>]"
            ]
          },
          "metadata": {
            "tags": []
          },
          "execution_count": 42
        },
        {
          "output_type": "display_data",
          "data": {
            "image/png": "[encoded data removed]",
            "text/plain": [
              "<Figure size 432x288 with 1 Axes>"
            ]
          },
          "metadata": {
            "tags": [],
            "needs_background": "light"
          }
        }
      ]
    },
    {
      "cell_type": "code",
      "metadata": {
        "colab": {
          "base_uri": "https://localhost:8080/"
        },
        "id": "8TKsy9kj9dab",
        "outputId": "ab00088d-2e58-4292-9af6-2b1ddf5503d9"
      },
      "source": [
        "\r\n",
        "device_name = tf.test.gpu_device_name()\r\n",
        "if device_name != '/device:GPU:0':\r\n",
        "  raise SystemError('GPU device not found')\r\n",
        "print('Found GPU at: {}'.format(device_name))"
      ],
      "execution_count": null,
      "outputs": [
        {
          "output_type": "stream",
          "text": [
            "Found GPU at: /device:GPU:0\n"
          ],
          "name": "stdout"
        }
      ]
    },
    {
      "cell_type": "code",
      "metadata": {
        "colab": {
          "base_uri": "https://localhost:8080/",
          "height": 1000
        },
        "id": "WcUFRlmP52Eu",
        "outputId": "b52ab5fc-2c65-4a6e-97ed-c0e6ad7668c8"
      },
      "source": [
        "optimizer =tf.keras.optimizers.RMSprop(\r\n",
        "    learning_rate=0.0001, rho=0.9, momentum=0.0, epsilon=1e-07, centered=True,\r\n",
        "    name='RMSprop',)\r\n",
        "model = Sequential()\r\n",
        "model.add(Dense(128, input_dim=9,activation='relu',kernel_initializer='he_uniform'))#dim\r\n",
        "model.add(Dense(64, activation='relu'))\r\n",
        "model.add(Dense(42, activation='relu'))\r\n",
        "model.add(Dense(21, activation='relu'))\r\n",
        "model.add(Dense(1, activation='linear'))\r\n",
        "model.compile(loss='mse', optimizer=optimizer, metrics=['mse','mae'])\r\n",
        "history=model.fit(X_train, y_train, validation_data=(X_test, y_test),epochs=100, batch_size=1000,verbose=2)\r\n",
        "plt.plot(history.history['mse'])\r\n",
        "plt.plot(history.history['loss'],label='train')\r\n",
        "plt.plot(history.history['val_loss'],label='val')\r\n",
        "plt.legend()\r\n",
        "plt.show()"
      ],
      "execution_count": null,
      "outputs": [
        {
          "output_type": "stream",
          "text": [
            "Epoch 1/100\n",
            "2868/2868 - 11s - loss: 0.2505 - mse: 0.2505 - mae: 0.2449 - val_loss: 0.2636 - val_mse: 0.2636 - val_mae: 0.2051\n",
            "Epoch 2/100\n",
            "2868/2868 - 10s - loss: 0.1644 - mse: 0.1644 - mae: 0.1735 - val_loss: 0.2255 - val_mse: 0.2255 - val_mae: 0.1651\n",
            "Epoch 3/100\n",
            "2868/2868 - 11s - loss: 0.1451 - mse: 0.1451 - mae: 0.1515 - val_loss: 0.1802 - val_mse: 0.1802 - val_mae: 0.1408\n",
            "Epoch 4/100\n",
            "2868/2868 - 11s - loss: 0.1369 - mse: 0.1369 - mae: 0.1420 - val_loss: 0.1818 - val_mse: 0.1818 - val_mae: 0.1385\n",
            "Epoch 5/100\n",
            "2868/2868 - 11s - loss: 0.1318 - mse: 0.1318 - mae: 0.1364 - val_loss: 0.2158 - val_mse: 0.2158 - val_mae: 0.1525\n",
            "Epoch 6/100\n",
            "2868/2868 - 11s - loss: 0.1279 - mse: 0.1279 - mae: 0.1324 - val_loss: 0.1958 - val_mse: 0.1958 - val_mae: 0.1401\n",
            "Epoch 7/100\n",
            "2868/2868 - 11s - loss: 0.1246 - mse: 0.1246 - mae: 0.1292 - val_loss: 0.2068 - val_mse: 0.2068 - val_mae: 0.1492\n",
            "Epoch 8/100\n",
            "2868/2868 - 11s - loss: 0.1216 - mse: 0.1216 - mae: 0.1265 - val_loss: 0.2137 - val_mse: 0.2137 - val_mae: 0.1413\n",
            "Epoch 9/100\n",
            "2868/2868 - 11s - loss: 0.1190 - mse: 0.1190 - mae: 0.1240 - val_loss: 0.1718 - val_mse: 0.1718 - val_mae: 0.1268\n",
            "Epoch 10/100\n",
            "2868/2868 - 11s - loss: 0.1166 - mse: 0.1166 - mae: 0.1220 - val_loss: 0.1778 - val_mse: 0.1778 - val_mae: 0.1257\n",
            "Epoch 11/100\n",
            "2868/2868 - 11s - loss: 0.1145 - mse: 0.1145 - mae: 0.1203 - val_loss: 0.1613 - val_mse: 0.1613 - val_mae: 0.1233\n",
            "Epoch 12/100\n",
            "2868/2868 - 10s - loss: 0.1127 - mse: 0.1127 - mae: 0.1189 - val_loss: 0.1693 - val_mse: 0.1693 - val_mae: 0.1196\n",
            "Epoch 13/100\n",
            "2868/2868 - 11s - loss: 0.1109 - mse: 0.1109 - mae: 0.1175 - val_loss: 0.2107 - val_mse: 0.2107 - val_mae: 0.1382\n",
            "Epoch 14/100\n",
            "2868/2868 - 11s - loss: 0.1094 - mse: 0.1094 - mae: 0.1164 - val_loss: 0.1339 - val_mse: 0.1339 - val_mae: 0.1145\n",
            "Epoch 15/100\n",
            "2868/2868 - 10s - loss: 0.1079 - mse: 0.1079 - mae: 0.1153 - val_loss: 0.1593 - val_mse: 0.1593 - val_mae: 0.1198\n",
            "Epoch 16/100\n",
            "2868/2868 - 11s - loss: 0.1065 - mse: 0.1065 - mae: 0.1143 - val_loss: 0.1875 - val_mse: 0.1875 - val_mae: 0.1296\n",
            "Epoch 17/100\n",
            "2868/2868 - 10s - loss: 0.1053 - mse: 0.1053 - mae: 0.1134 - val_loss: 0.1581 - val_mse: 0.1581 - val_mae: 0.1161\n",
            "Epoch 18/100\n",
            "2868/2868 - 11s - loss: 0.1040 - mse: 0.1040 - mae: 0.1125 - val_loss: 0.1926 - val_mse: 0.1926 - val_mae: 0.1314\n",
            "Epoch 19/100\n",
            "2868/2868 - 11s - loss: 0.1029 - mse: 0.1029 - mae: 0.1116 - val_loss: 0.1733 - val_mse: 0.1733 - val_mae: 0.1263\n",
            "Epoch 20/100\n",
            "2868/2868 - 11s - loss: 0.1018 - mse: 0.1018 - mae: 0.1108 - val_loss: 0.1605 - val_mse: 0.1605 - val_mae: 0.1169\n",
            "Epoch 21/100\n",
            "2868/2868 - 11s - loss: 0.1008 - mse: 0.1008 - mae: 0.1100 - val_loss: 0.1633 - val_mse: 0.1633 - val_mae: 0.1242\n",
            "Epoch 22/100\n",
            "2868/2868 - 11s - loss: 0.0998 - mse: 0.0998 - mae: 0.1093 - val_loss: 0.1373 - val_mse: 0.1373 - val_mae: 0.1089\n",
            "Epoch 23/100\n",
            "2868/2868 - 11s - loss: 0.0989 - mse: 0.0989 - mae: 0.1086 - val_loss: 0.1626 - val_mse: 0.1626 - val_mae: 0.1160\n",
            "Epoch 24/100\n",
            "2868/2868 - 11s - loss: 0.0979 - mse: 0.0979 - mae: 0.1078 - val_loss: 0.1239 - val_mse: 0.1239 - val_mae: 0.1017\n",
            "Epoch 25/100\n",
            "2868/2868 - 11s - loss: 0.0970 - mse: 0.0970 - mae: 0.1072 - val_loss: 0.1580 - val_mse: 0.1580 - val_mae: 0.1144\n",
            "Epoch 26/100\n",
            "2868/2868 - 11s - loss: 0.0961 - mse: 0.0961 - mae: 0.1065 - val_loss: 0.1323 - val_mse: 0.1323 - val_mae: 0.1095\n",
            "Epoch 27/100\n",
            "2868/2868 - 11s - loss: 0.0954 - mse: 0.0954 - mae: 0.1059 - val_loss: 0.1211 - val_mse: 0.1211 - val_mae: 0.1052\n",
            "Epoch 28/100\n",
            "2868/2868 - 11s - loss: 0.0945 - mse: 0.0945 - mae: 0.1052 - val_loss: 0.1711 - val_mse: 0.1711 - val_mae: 0.1247\n",
            "Epoch 29/100\n",
            "2868/2868 - 11s - loss: 0.0938 - mse: 0.0938 - mae: 0.1047 - val_loss: 0.1100 - val_mse: 0.1100 - val_mae: 0.0961\n",
            "Epoch 30/100\n",
            "2868/2868 - 11s - loss: 0.0930 - mse: 0.0930 - mae: 0.1041 - val_loss: 0.1623 - val_mse: 0.1623 - val_mae: 0.1245\n",
            "Epoch 31/100\n",
            "2868/2868 - 11s - loss: 0.0922 - mse: 0.0922 - mae: 0.1036 - val_loss: 0.1244 - val_mse: 0.1244 - val_mae: 0.1051\n",
            "Epoch 32/100\n",
            "2868/2868 - 11s - loss: 0.0916 - mse: 0.0916 - mae: 0.1030 - val_loss: 0.1585 - val_mse: 0.1585 - val_mae: 0.1225\n",
            "Epoch 33/100\n",
            "2868/2868 - 11s - loss: 0.0909 - mse: 0.0909 - mae: 0.1025 - val_loss: 0.1379 - val_mse: 0.1379 - val_mae: 0.1084\n",
            "Epoch 34/100\n",
            "2868/2868 - 11s - loss: 0.0902 - mse: 0.0902 - mae: 0.1020 - val_loss: 0.1251 - val_mse: 0.1251 - val_mae: 0.1027\n",
            "Epoch 35/100\n",
            "2868/2868 - 11s - loss: 0.0896 - mse: 0.0896 - mae: 0.1015 - val_loss: 0.1358 - val_mse: 0.1358 - val_mae: 0.1043\n",
            "Epoch 36/100\n",
            "2868/2868 - 11s - loss: 0.0890 - mse: 0.0890 - mae: 0.1010 - val_loss: 0.1570 - val_mse: 0.1570 - val_mae: 0.1191\n",
            "Epoch 37/100\n",
            "2868/2868 - 11s - loss: 0.0884 - mse: 0.0884 - mae: 0.1006 - val_loss: 0.1205 - val_mse: 0.1205 - val_mae: 0.0985\n",
            "Epoch 38/100\n",
            "2868/2868 - 11s - loss: 0.0878 - mse: 0.0878 - mae: 0.1000 - val_loss: 0.1366 - val_mse: 0.1366 - val_mae: 0.1053\n",
            "Epoch 39/100\n",
            "2868/2868 - 11s - loss: 0.0872 - mse: 0.0872 - mae: 0.0997 - val_loss: 0.1278 - val_mse: 0.1278 - val_mae: 0.1123\n",
            "Epoch 40/100\n",
            "2868/2868 - 11s - loss: 0.0868 - mse: 0.0868 - mae: 0.0993 - val_loss: 0.1594 - val_mse: 0.1594 - val_mae: 0.1173\n",
            "Epoch 41/100\n",
            "2868/2868 - 11s - loss: 0.0863 - mse: 0.0863 - mae: 0.0989 - val_loss: 0.1239 - val_mse: 0.1239 - val_mae: 0.0987\n",
            "Epoch 42/100\n",
            "2868/2868 - 11s - loss: 0.0858 - mse: 0.0858 - mae: 0.0985 - val_loss: 0.1323 - val_mse: 0.1323 - val_mae: 0.1097\n",
            "Epoch 43/100\n",
            "2868/2868 - 11s - loss: 0.0854 - mse: 0.0854 - mae: 0.0981 - val_loss: 0.1397 - val_mse: 0.1397 - val_mae: 0.1042\n",
            "Epoch 44/100\n",
            "2868/2868 - 11s - loss: 0.0850 - mse: 0.0850 - mae: 0.0977 - val_loss: 0.1299 - val_mse: 0.1299 - val_mae: 0.1121\n",
            "Epoch 45/100\n",
            "2868/2868 - 11s - loss: 0.0845 - mse: 0.0845 - mae: 0.0974 - val_loss: 0.1320 - val_mse: 0.1320 - val_mae: 0.1022\n",
            "Epoch 46/100\n",
            "2868/2868 - 11s - loss: 0.0842 - mse: 0.0842 - mae: 0.0971 - val_loss: 0.1181 - val_mse: 0.1181 - val_mae: 0.0979\n",
            "Epoch 47/100\n",
            "2868/2868 - 11s - loss: 0.0838 - mse: 0.0838 - mae: 0.0967 - val_loss: 0.1270 - val_mse: 0.1270 - val_mae: 0.0985\n",
            "Epoch 48/100\n",
            "2868/2868 - 11s - loss: 0.0834 - mse: 0.0834 - mae: 0.0964 - val_loss: 0.1012 - val_mse: 0.1012 - val_mae: 0.0886\n",
            "Epoch 49/100\n",
            "2868/2868 - 11s - loss: 0.0830 - mse: 0.0830 - mae: 0.0962 - val_loss: 0.1169 - val_mse: 0.1169 - val_mae: 0.0984\n",
            "Epoch 50/100\n",
            "2868/2868 - 11s - loss: 0.0827 - mse: 0.0827 - mae: 0.0958 - val_loss: 0.1414 - val_mse: 0.1414 - val_mae: 0.1103\n",
            "Epoch 51/100\n",
            "2868/2868 - 11s - loss: 0.0823 - mse: 0.0823 - mae: 0.0955 - val_loss: 0.1298 - val_mse: 0.1298 - val_mae: 0.0990\n",
            "Epoch 52/100\n",
            "2868/2868 - 11s - loss: 0.0821 - mse: 0.0821 - mae: 0.0953 - val_loss: 0.1266 - val_mse: 0.1266 - val_mae: 0.0981\n",
            "Epoch 53/100\n",
            "2868/2868 - 11s - loss: 0.0817 - mse: 0.0817 - mae: 0.0950 - val_loss: 0.1334 - val_mse: 0.1334 - val_mae: 0.1017\n",
            "Epoch 54/100\n",
            "2868/2868 - 11s - loss: 0.0814 - mse: 0.0814 - mae: 0.0947 - val_loss: 0.1314 - val_mse: 0.1314 - val_mae: 0.1016\n",
            "Epoch 55/100\n",
            "2868/2868 - 11s - loss: 0.0812 - mse: 0.0812 - mae: 0.0945 - val_loss: 0.1302 - val_mse: 0.1302 - val_mae: 0.0994\n",
            "Epoch 56/100\n",
            "2868/2868 - 11s - loss: 0.0808 - mse: 0.0808 - mae: 0.0942 - val_loss: 0.1081 - val_mse: 0.1081 - val_mae: 0.0919\n",
            "Epoch 57/100\n",
            "2868/2868 - 11s - loss: 0.0804 - mse: 0.0804 - mae: 0.0939 - val_loss: 0.1069 - val_mse: 0.1069 - val_mae: 0.0913\n",
            "Epoch 58/100\n",
            "2868/2868 - 11s - loss: 0.0802 - mse: 0.0802 - mae: 0.0937 - val_loss: 0.1373 - val_mse: 0.1373 - val_mae: 0.1054\n",
            "Epoch 59/100\n",
            "2868/2868 - 11s - loss: 0.0799 - mse: 0.0799 - mae: 0.0935 - val_loss: 0.1374 - val_mse: 0.1374 - val_mae: 0.1019\n",
            "Epoch 60/100\n",
            "2868/2868 - 11s - loss: 0.0796 - mse: 0.0796 - mae: 0.0932 - val_loss: 0.1519 - val_mse: 0.1519 - val_mae: 0.1065\n",
            "Epoch 61/100\n",
            "2868/2868 - 11s - loss: 0.0793 - mse: 0.0793 - mae: 0.0930 - val_loss: 0.1308 - val_mse: 0.1308 - val_mae: 0.1024\n",
            "Epoch 62/100\n",
            "2868/2868 - 11s - loss: 0.0792 - mse: 0.0792 - mae: 0.0928 - val_loss: 0.1300 - val_mse: 0.1300 - val_mae: 0.1002\n",
            "Epoch 63/100\n",
            "2868/2868 - 11s - loss: 0.0788 - mse: 0.0788 - mae: 0.0925 - val_loss: 0.1222 - val_mse: 0.1222 - val_mae: 0.0948\n",
            "Epoch 64/100\n",
            "2868/2868 - 11s - loss: 0.0786 - mse: 0.0786 - mae: 0.0923 - val_loss: 0.1262 - val_mse: 0.1262 - val_mae: 0.0976\n",
            "Epoch 65/100\n",
            "2868/2868 - 11s - loss: 0.0783 - mse: 0.0783 - mae: 0.0921 - val_loss: 0.1055 - val_mse: 0.1055 - val_mae: 0.0911\n",
            "Epoch 66/100\n",
            "2868/2868 - 12s - loss: 0.0780 - mse: 0.0780 - mae: 0.0918 - val_loss: 0.1220 - val_mse: 0.1220 - val_mae: 0.0971\n",
            "Epoch 67/100\n",
            "2868/2868 - 11s - loss: 0.0779 - mse: 0.0779 - mae: 0.0916 - val_loss: 0.1329 - val_mse: 0.1329 - val_mae: 0.1104\n",
            "Epoch 68/100\n",
            "2868/2868 - 11s - loss: 0.0777 - mse: 0.0777 - mae: 0.0915 - val_loss: 0.1153 - val_mse: 0.1153 - val_mae: 0.0943\n",
            "Epoch 69/100\n",
            "2868/2868 - 11s - loss: 0.0774 - mse: 0.0774 - mae: 0.0913 - val_loss: 0.1574 - val_mse: 0.1574 - val_mae: 0.1157\n",
            "Epoch 70/100\n",
            "2868/2868 - 11s - loss: 0.0773 - mse: 0.0773 - mae: 0.0911 - val_loss: 0.1398 - val_mse: 0.1398 - val_mae: 0.1038\n",
            "Epoch 71/100\n",
            "2868/2868 - 11s - loss: 0.0770 - mse: 0.0770 - mae: 0.0909 - val_loss: 0.1513 - val_mse: 0.1513 - val_mae: 0.1104\n",
            "Epoch 72/100\n",
            "2868/2868 - 11s - loss: 0.0768 - mse: 0.0768 - mae: 0.0908 - val_loss: 0.1013 - val_mse: 0.1013 - val_mae: 0.0881\n",
            "Epoch 73/100\n",
            "2868/2868 - 11s - loss: 0.0765 - mse: 0.0765 - mae: 0.0905 - val_loss: 0.1414 - val_mse: 0.1414 - val_mae: 0.1124\n",
            "Epoch 74/100\n",
            "2868/2868 - 11s - loss: 0.0764 - mse: 0.0764 - mae: 0.0904 - val_loss: 0.1338 - val_mse: 0.1338 - val_mae: 0.0984\n",
            "Epoch 75/100\n",
            "2868/2868 - 11s - loss: 0.0762 - mse: 0.0762 - mae: 0.0902 - val_loss: 0.1406 - val_mse: 0.1406 - val_mae: 0.1057\n",
            "Epoch 76/100\n",
            "2868/2868 - 11s - loss: 0.0760 - mse: 0.0760 - mae: 0.0901 - val_loss: 0.1427 - val_mse: 0.1427 - val_mae: 0.1050\n",
            "Epoch 77/100\n",
            "2868/2868 - 11s - loss: 0.0758 - mse: 0.0758 - mae: 0.0898 - val_loss: 0.0919 - val_mse: 0.0919 - val_mae: 0.0851\n",
            "Epoch 78/100\n",
            "2868/2868 - 11s - loss: 0.0757 - mse: 0.0757 - mae: 0.0898 - val_loss: 0.1438 - val_mse: 0.1438 - val_mae: 0.1056\n",
            "Epoch 79/100\n",
            "2868/2868 - 11s - loss: 0.0755 - mse: 0.0755 - mae: 0.0896 - val_loss: 0.0945 - val_mse: 0.0945 - val_mae: 0.0873\n",
            "Epoch 80/100\n",
            "2868/2868 - 11s - loss: 0.0753 - mse: 0.0753 - mae: 0.0895 - val_loss: 0.1636 - val_mse: 0.1636 - val_mae: 0.1119\n",
            "Epoch 81/100\n",
            "2868/2868 - 11s - loss: 0.0752 - mse: 0.0752 - mae: 0.0893 - val_loss: 0.1441 - val_mse: 0.1441 - val_mae: 0.1084\n",
            "Epoch 82/100\n",
            "2868/2868 - 11s - loss: 0.0750 - mse: 0.0750 - mae: 0.0892 - val_loss: 0.1486 - val_mse: 0.1486 - val_mae: 0.1158\n",
            "Epoch 83/100\n",
            "2868/2868 - 11s - loss: 0.0748 - mse: 0.0748 - mae: 0.0890 - val_loss: 0.1316 - val_mse: 0.1316 - val_mae: 0.0987\n",
            "Epoch 84/100\n",
            "2868/2868 - 11s - loss: 0.0747 - mse: 0.0747 - mae: 0.0889 - val_loss: 0.1294 - val_mse: 0.1294 - val_mae: 0.0972\n",
            "Epoch 85/100\n",
            "2868/2868 - 11s - loss: 0.0745 - mse: 0.0745 - mae: 0.0888 - val_loss: 0.1339 - val_mse: 0.1339 - val_mae: 0.0984\n",
            "Epoch 86/100\n",
            "2868/2868 - 11s - loss: 0.0744 - mse: 0.0744 - mae: 0.0886 - val_loss: 0.1377 - val_mse: 0.1377 - val_mae: 0.1084\n",
            "Epoch 87/100\n",
            "2868/2868 - 11s - loss: 0.0742 - mse: 0.0742 - mae: 0.0885 - val_loss: 0.1272 - val_mse: 0.1272 - val_mae: 0.0986\n",
            "Epoch 88/100\n",
            "2868/2868 - 11s - loss: 0.0741 - mse: 0.0741 - mae: 0.0884 - val_loss: 0.1158 - val_mse: 0.1158 - val_mae: 0.0937\n",
            "Epoch 89/100\n",
            "2868/2868 - 11s - loss: 0.0740 - mse: 0.0740 - mae: 0.0884 - val_loss: 0.1503 - val_mse: 0.1503 - val_mae: 0.1037\n",
            "Epoch 90/100\n",
            "2868/2868 - 11s - loss: 0.0738 - mse: 0.0738 - mae: 0.0881 - val_loss: 0.1101 - val_mse: 0.1101 - val_mae: 0.0930\n",
            "Epoch 91/100\n",
            "2868/2868 - 11s - loss: 0.0737 - mse: 0.0737 - mae: 0.0880 - val_loss: 0.1320 - val_mse: 0.1320 - val_mae: 0.1081\n",
            "Epoch 92/100\n",
            "2868/2868 - 11s - loss: 0.0735 - mse: 0.0735 - mae: 0.0879 - val_loss: 0.1098 - val_mse: 0.1098 - val_mae: 0.0904\n",
            "Epoch 93/100\n",
            "2868/2868 - 11s - loss: 0.0733 - mse: 0.0733 - mae: 0.0878 - val_loss: 0.1061 - val_mse: 0.1061 - val_mae: 0.0898\n",
            "Epoch 94/100\n",
            "2868/2868 - 11s - loss: 0.0732 - mse: 0.0732 - mae: 0.0877 - val_loss: 0.1144 - val_mse: 0.1144 - val_mae: 0.0914\n",
            "Epoch 95/100\n",
            "2868/2868 - 11s - loss: 0.0730 - mse: 0.0730 - mae: 0.0875 - val_loss: 0.1377 - val_mse: 0.1377 - val_mae: 0.1177\n",
            "Epoch 96/100\n",
            "2868/2868 - 11s - loss: 0.0731 - mse: 0.0731 - mae: 0.0875 - val_loss: 0.1199 - val_mse: 0.1199 - val_mae: 0.0971\n",
            "Epoch 97/100\n",
            "2868/2868 - 11s - loss: 0.0728 - mse: 0.0728 - mae: 0.0874 - val_loss: 0.1215 - val_mse: 0.1215 - val_mae: 0.0962\n",
            "Epoch 98/100\n",
            "2868/2868 - 11s - loss: 0.0726 - mse: 0.0726 - mae: 0.0872 - val_loss: 0.0986 - val_mse: 0.0986 - val_mae: 0.0884\n",
            "Epoch 99/100\n",
            "2868/2868 - 11s - loss: 0.0725 - mse: 0.0725 - mae: 0.0872 - val_loss: 0.1209 - val_mse: 0.1209 - val_mae: 0.1115\n",
            "Epoch 100/100\n",
            "2868/2868 - 11s - loss: 0.0725 - mse: 0.0725 - mae: 0.0870 - val_loss: 0.1238 - val_mse: 0.1238 - val_mae: 0.1083\n"
          ],
          "name": "stdout"
        },
        {
          "output_type": "display_data",
          "data": {
            "image/png": "[encoded data removed]",
            "text/plain": [
              "<Figure size 432x288 with 1 Axes>"
            ]
          },
          "metadata": {
            "tags": [],
            "needs_background": "light"
          }
        }
      ]
    },
    {
      "cell_type": "code",
      "metadata": {
        "colab": {
          "base_uri": "https://localhost:8080/"
        },
        "id": "I5EYeLYk2P2S",
        "outputId": "0fac8ea4-993b-4403-ece6-f75ba92d13cf"
      },
      "source": [
        "model.fit(X_train, y_train, validation_data=(X_test, y_test),epochs=1, batch_size=1000,verbose=2)"
      ],
      "execution_count": null,
      "outputs": [
        {
          "output_type": "stream",
          "text": [
            "2868/2868 - 7s - loss: 0.0690 - mse: 0.0690 - mae: 0.0824 - val_loss: 0.1373 - val_mse: 0.1373 - val_mae: 0.0953\n"
          ],
          "name": "stdout"
        },
        {
          "output_type": "execute_result",
          "data": {
            "text/plain": [
              "<tensorflow.python.keras.callbacks.History at 0x7f03aecca320>"
            ]
          },
          "metadata": {
            "tags": []
          },
          "execution_count": 44
        }
      ]
    },
    {
      "cell_type": "code",
      "metadata": {
        "id": "Qf_99iOQAJZ2"
      },
      "source": [
        "y_predict=model.predict(X_test)"
      ],
      "execution_count": null,
      "outputs": []
    },
    {
      "cell_type": "code",
      "metadata": {
        "colab": {
          "base_uri": "https://localhost:8080/",
          "height": 282
        },
        "id": "Xw8zUipIAgm1",
        "outputId": "727d1b6e-9b58-4c2c-d950-d2e9b712f78b"
      },
      "source": [
        "plt.plot(y_test)\r\n",
        "plt.plot(y_predict)\r\n",
        "#plt.plot(X_test[:,0])\r\n",
        "#plt.ylim(-0.5,0)"
      ],
      "execution_count": null,
      "outputs": [
        {
          "output_type": "execute_result",
          "data": {
            "text/plain": [
              "[<matplotlib.lines.Line2D at 0x7f03aecb1c88>]"
            ]
          },
          "metadata": {
            "tags": []
          },
          "execution_count": 46
        },
        {
          "output_type": "display_data",
          "data": {
            "image/png": "[encoded data removed]",
            "text/plain": [
              "<Figure size 432x288 with 1 Axes>"
            ]
          },
          "metadata": {
            "tags": [],
            "needs_background": "light"
          }
        }
      ]
    }
  ]
}